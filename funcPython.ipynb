{
 "cells": [
  {
   "cell_type": "markdown",
   "id": "87e2d54e",
   "metadata": {},
   "source": [
    "# Introdução à Programação Funcional com Python\n",
    "\n",
    "Este notebook acompanha o texto sobre programação funcional com Python com pedaços de código mostrando exemplos, casos de uso, exercícios resolvidos e primeira iteração no desenvolvimento de projetos.\n",
    "\n",
    "A referências básica é Ramalho (2015).\n",
    "\n",
    "RAMALHO, Luciano. \"Python Fluente\". São Paulo: Novatec, 2015. ISBN 978-857522-462-5"
   ]
  },
  {
   "cell_type": "markdown",
   "id": "b7e1e485",
   "metadata": {},
   "source": [
    "## Tratando uma função como um objeto\n",
    "\n",
    "**Definição: objeto de primera classe**\n",
    "Chamaremos de entidade a um elemento de uma linguagem de programação com semântica definida que requer endereçamento de memória para si.  Diz-se que uma entidade é um objeto de primeira classe se pode ser:\n",
    "\n",
    "1. criada em tempo de execução;\n",
    "2. atribuída a uma variável ou a um elemento de uma coleção;\n",
    "3. passada como argumento a uma função, e\n",
    "4. retornada como resultado de uma função.\n",
    "\n",
    "Em Python, funções são objetos de primeira classe.\n",
    "\n",
    "** Exemplos**:\n",
    "\n",
    "Inteiros, strings, dicionários e todos os demais tipos de coleção de Python."
   ]
  },
  {
   "cell_type": "markdown",
   "id": "68adc29e",
   "metadata": {},
   "source": [
    "**Listagem 1**\n",
    "\n",
    "O código desta listagem foi extraído de Ramalho (2015, p. 176)."
   ]
  },
  {
   "cell_type": "code",
   "execution_count": 2,
   "id": "6ec9a162",
   "metadata": {},
   "outputs": [],
   "source": [
    "# Definição da função fatorial usando recursão (que é um construto tipicamente funcional)\n",
    "\n",
    "def fatorial(n):\n",
    "    \"\"\"Esta função retorno o fatoria de n\"\"\"\n",
    "    return 1 if n < 2 else n*fatorial(n-1)"
   ]
  },
  {
   "cell_type": "code",
   "execution_count": 3,
   "id": "d692056c",
   "metadata": {},
   "outputs": [
    {
     "data": {
      "text/plain": [
       "1405006117752879898543142606244511569936384000000000"
      ]
     },
     "execution_count": 3,
     "metadata": {},
     "output_type": "execute_result"
    }
   ],
   "source": [
    "fatorial(42)"
   ]
  },
  {
   "cell_type": "code",
   "execution_count": 4,
   "id": "4171391d",
   "metadata": {},
   "outputs": [
    {
     "data": {
      "text/plain": [
       "'Esta função retorno o fatoria de n'"
      ]
     },
     "execution_count": 4,
     "metadata": {},
     "output_type": "execute_result"
    }
   ],
   "source": [
    "fatorial.__doc__"
   ]
  },
  {
   "cell_type": "code",
   "execution_count": 5,
   "id": "a14fb8b8",
   "metadata": {},
   "outputs": [
    {
     "data": {
      "text/plain": [
       "function"
      ]
     },
     "execution_count": 5,
     "metadata": {},
     "output_type": "execute_result"
    }
   ],
   "source": [
    "type(fatorial)"
   ]
  },
  {
   "cell_type": "code",
   "execution_count": 6,
   "id": "de1e9ec7",
   "metadata": {},
   "outputs": [
    {
     "name": "stdout",
     "output_type": "stream",
     "text": [
      "Help on function fatorial in module __main__:\n",
      "\n",
      "fatorial(n)\n",
      "    Esta função retorno o fatoria de n\n",
      "\n"
     ]
    }
   ],
   "source": [
    "help(fatorial)"
   ]
  },
  {
   "cell_type": "markdown",
   "id": "ff9f21f7",
   "metadata": {},
   "source": [
    "**Listagem 2**: atribuindo uma função a uma variável\n",
    "Ramalho(2015, p. 177)"
   ]
  },
  {
   "cell_type": "code",
   "execution_count": 7,
   "id": "fb7fcc33",
   "metadata": {},
   "outputs": [],
   "source": [
    "fact = fatorial"
   ]
  },
  {
   "cell_type": "code",
   "execution_count": 8,
   "id": "a575396a",
   "metadata": {},
   "outputs": [
    {
     "data": {
      "text/plain": [
       "<function __main__.fatorial(n)>"
      ]
     },
     "execution_count": 8,
     "metadata": {},
     "output_type": "execute_result"
    }
   ],
   "source": [
    "fact"
   ]
  },
  {
   "cell_type": "code",
   "execution_count": 9,
   "id": "f9cc068c",
   "metadata": {},
   "outputs": [
    {
     "data": {
      "text/plain": [
       "120"
      ]
     },
     "execution_count": 9,
     "metadata": {},
     "output_type": "execute_result"
    }
   ],
   "source": [
    "fatorial(5)"
   ]
  },
  {
   "cell_type": "code",
   "execution_count": 10,
   "id": "63bbc19c",
   "metadata": {},
   "outputs": [
    {
     "data": {
      "text/plain": [
       "120"
      ]
     },
     "execution_count": 10,
     "metadata": {},
     "output_type": "execute_result"
    }
   ],
   "source": [
    "fact(5)"
   ]
  },
  {
   "cell_type": "markdown",
   "id": "68c9e946",
   "metadata": {},
   "source": [
    "**Listagem 3**: usando a função de ordem superior map sobre a função fatorial\n",
    "\n",
    "Ramalho(2015, p. 177)"
   ]
  },
  {
   "cell_type": "code",
   "execution_count": 11,
   "id": "ec924a3f",
   "metadata": {},
   "outputs": [
    {
     "data": {
      "text/plain": [
       "<map at 0x7f51e00d9b50>"
      ]
     },
     "execution_count": 11,
     "metadata": {},
     "output_type": "execute_result"
    }
   ],
   "source": [
    "map(fact, range(11))"
   ]
  },
  {
   "cell_type": "code",
   "execution_count": 12,
   "id": "21aac939",
   "metadata": {},
   "outputs": [
    {
     "data": {
      "text/plain": [
       "[1, 1, 2, 6, 24, 120, 720, 5040, 40320, 362880, 3628800]"
      ]
     },
     "execution_count": 12,
     "metadata": {},
     "output_type": "execute_result"
    }
   ],
   "source": [
    "list(map(fact, range(11)))"
   ]
  },
  {
   "cell_type": "markdown",
   "id": "d32fda43",
   "metadata": {},
   "source": [
    "## Função de ordem superior"
   ]
  },
  {
   "cell_type": "code",
   "execution_count": null,
   "id": "5121cb89",
   "metadata": {},
   "outputs": [],
   "source": []
  }
 ],
 "metadata": {
  "kernelspec": {
   "display_name": "Python 3.9.7 ('base')",
   "language": "python",
   "name": "python3"
  },
  "language_info": {
   "codemirror_mode": {
    "name": "ipython",
    "version": 3
   },
   "file_extension": ".py",
   "mimetype": "text/x-python",
   "name": "python",
   "nbconvert_exporter": "python",
   "pygments_lexer": "ipython3",
   "version": "3.9.7"
  },
  "vscode": {
   "interpreter": {
    "hash": "7dd124e94b9d31c508a3b2513e9f108ee2c3b5050b1787a2c9615fd7af649311"
   }
  }
 },
 "nbformat": 4,
 "nbformat_minor": 5
}
